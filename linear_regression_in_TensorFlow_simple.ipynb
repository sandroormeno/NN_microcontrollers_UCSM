{
 "cells": [
  {
   "cell_type": "code",
   "execution_count": 1,
   "metadata": {},
   "outputs": [
    {
     "data": {
      "text/plain": [
       "'2.3.0'"
      ]
     },
     "execution_count": 1,
     "metadata": {},
     "output_type": "execute_result"
    }
   ],
   "source": [
    "import tensorflow as tf \n",
    "tf.__version__"
   ]
  },
  {
   "cell_type": "code",
   "execution_count": 2,
   "metadata": {},
   "outputs": [],
   "source": [
    "X = tf.constant([1, 2, 3, 4, 5, 6 ], dtype=tf.float32)\n",
    "\n",
    "y = tf.constant([1.5,3,4.5,6,7.5,9], dtype=tf.float32)\n",
    "\n",
    "test = 10"
   ]
  },
  {
   "cell_type": "code",
   "execution_count": null,
   "metadata": {},
   "outputs": [],
   "source": [
    "w  = tf.Variable([0.0], dtype=tf.float32)\n",
    "\n",
    "def forward(input):\n",
    "  return input*w\n",
    "\n",
    "def criterion(out, out_predit):\n",
    "  error = out_predit - out\n",
    "  return tf.reduce_mean(tf.square(error)) \n",
    "\n",
    "n_epochs = 50\n",
    "learning_rate = 0.001\n",
    "\n",
    "for epoch in range(n_epochs):\n",
    "  with tf.GradientTape() as tape:\n",
    "    y_pred = forward(X) \n",
    "    loss =  criterion(y, y_pred) \n",
    "  # En esta parte derivamos\n",
    "  derivada = tape.gradient(loss, w)\n",
    "  # el resultado de la derivada es multipicado al Lr y es actualizado en w (-=)\n",
    "  w.assign(w  - learning_rate * derivada) \n",
    "  if (epoch+1) % 10 == 0:\n",
    "    print(f'Epoch: {epoch+1}/{n_epochs} : w = {w[0].numpy():.4f} , loss =  {loss:.8f}')\n",
    "\n",
    "print(f'\\nPrediction after training: f({test}) = {forward(test)[0].numpy():.2f}')\n"
   ]
  }
 ],
 "metadata": {
  "interpreter": {
   "hash": "cdcd8c5aaf0d97dc52ec003da09d24e2f1f453f83c7f39584ea195bfb1633ef3"
  },
  "kernelspec": {
   "display_name": "Python 3.8.5 64-bit ('tf': conda)",
   "language": "python",
   "name": "python3"
  },
  "language_info": {
   "codemirror_mode": {
    "name": "ipython",
    "version": 3
   },
   "file_extension": ".py",
   "mimetype": "text/x-python",
   "name": "python",
   "nbconvert_exporter": "python",
   "pygments_lexer": "ipython3",
   "version": "3.8.5"
  },
  "orig_nbformat": 4
 },
 "nbformat": 4,
 "nbformat_minor": 2
}
